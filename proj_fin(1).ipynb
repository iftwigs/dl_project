{
 "cells": [
  {
   "cell_type": "markdown",
   "metadata": {},
   "source": [
    "# Проект по Deep Learning: Sentiment Analysis c предобученной моделью"
   ]
  },
  {
   "cell_type": "markdown",
   "metadata": {},
   "source": [
    "Задача проекта — с помощью transfer learning BERT'a получить модель для оценки тональности отзывов на различные авиакомпании. Изначально предполагалось использовать датасет из англоязычных твитов с меншнами авиакомпаний с тремя типами оценок — негативной, положительной и нейтральной, однако в процессе реализации обнаружилась ошибка, о которой подробнее напишу в итогах, и поэтому данные пришлось заменить на другие, в которых только два класса.\n",
    "\n",
    "Из других работ по теме нашлись туториалы по transfer learning для оценки тональности от fast.ai (например https://docs.fast.ai/tutorial.text.html), показался интересным их формат данных, получающийся в результате препроцессинга – он добавляет новые служебные токены, например, для обозначения капитализации."
   ]
  },
  {
   "cell_type": "code",
   "execution_count": 30,
   "metadata": {},
   "outputs": [],
   "source": [
    "import os\n",
    "import random\n",
    "import re\n",
    "import time\n",
    "import torch\n",
    "\n",
    "from sklearn.feature_extraction.text import TfidfVectorizer\n",
    "from sklearn.linear_model import LogisticRegression\n",
    "from sklearn.metrics import accuracy_score, roc_curve, auc\n",
    "from sklearn.model_selection import train_test_split, StratifiedKFold, cross_val_score\n",
    "from torch.utils.data import TensorDataset, DataLoader, RandomSampler, SequentialSampler\n",
    "from tqdm import tqdm\n",
    "from transformers import BertTokenizer, BertModel, AdamW, get_linear_schedule_with_warmup\n",
    "\n",
    "import numpy as np\n",
    "import pandas as pd\n",
    "import matplotlib.pyplot as plt"
   ]
  },
  {
   "cell_type": "code",
   "execution_count": 2,
   "metadata": {},
   "outputs": [],
   "source": [
    "device = torch.device(\"cuda\")"
   ]
  },
  {
   "cell_type": "code",
   "execution_count": 3,
   "metadata": {},
   "outputs": [],
   "source": [
    "train_data = pd.read_csv('train_data.csv')"
   ]
  },
  {
   "cell_type": "code",
   "execution_count": 4,
   "metadata": {
    "scrolled": true
   },
   "outputs": [
    {
     "data": {
      "text/html": [
       "<div>\n",
       "<style scoped>\n",
       "    .dataframe tbody tr th:only-of-type {\n",
       "        vertical-align: middle;\n",
       "    }\n",
       "\n",
       "    .dataframe tbody tr th {\n",
       "        vertical-align: top;\n",
       "    }\n",
       "\n",
       "    .dataframe thead th {\n",
       "        text-align: right;\n",
       "    }\n",
       "</style>\n",
       "<table border=\"1\" class=\"dataframe\">\n",
       "  <thead>\n",
       "    <tr style=\"text-align: right;\">\n",
       "      <th></th>\n",
       "      <th>id</th>\n",
       "      <th>tweet</th>\n",
       "      <th>label</th>\n",
       "    </tr>\n",
       "  </thead>\n",
       "  <tbody>\n",
       "    <tr>\n",
       "      <th>0</th>\n",
       "      <td>80938</td>\n",
       "      <td>@united I'm having issues. Yesterday I rebooke...</td>\n",
       "      <td>0</td>\n",
       "    </tr>\n",
       "    <tr>\n",
       "      <th>1</th>\n",
       "      <td>10959</td>\n",
       "      <td>@united kinda feel like the $6.99 you charge f...</td>\n",
       "      <td>0</td>\n",
       "    </tr>\n",
       "    <tr>\n",
       "      <th>2</th>\n",
       "      <td>130813</td>\n",
       "      <td>Livid in Vegas, delayed, again&amp;amp; again&amp;amp;...</td>\n",
       "      <td>0</td>\n",
       "    </tr>\n",
       "    <tr>\n",
       "      <th>3</th>\n",
       "      <td>146589</td>\n",
       "      <td>@united the most annoying man on earth is on m...</td>\n",
       "      <td>0</td>\n",
       "    </tr>\n",
       "    <tr>\n",
       "      <th>4</th>\n",
       "      <td>117579</td>\n",
       "      <td>@united The last 2 weeks I've flown wit u, you...</td>\n",
       "      <td>0</td>\n",
       "    </tr>\n",
       "  </tbody>\n",
       "</table>\n",
       "</div>"
      ],
      "text/plain": [
       "       id                                              tweet  label\n",
       "0   80938  @united I'm having issues. Yesterday I rebooke...      0\n",
       "1   10959  @united kinda feel like the $6.99 you charge f...      0\n",
       "2  130813  Livid in Vegas, delayed, again&amp; again&amp;...      0\n",
       "3  146589  @united the most annoying man on earth is on m...      0\n",
       "4  117579  @united The last 2 weeks I've flown wit u, you...      0"
      ]
     },
     "execution_count": 4,
     "metadata": {},
     "output_type": "execute_result"
    }
   ],
   "source": [
    "train_data.head()"
   ]
  },
  {
   "cell_type": "code",
   "execution_count": 5,
   "metadata": {},
   "outputs": [
    {
     "data": {
      "text/plain": [
       "1    1700\n",
       "0    1700\n",
       "Name: label, dtype: int64"
      ]
     },
     "execution_count": 5,
     "metadata": {},
     "output_type": "execute_result"
    }
   ],
   "source": [
    "train_data['label'].value_counts()"
   ]
  },
  {
   "cell_type": "code",
   "execution_count": 6,
   "metadata": {},
   "outputs": [],
   "source": [
    "test_data = pd.read_csv('test_data.csv')"
   ]
  },
  {
   "cell_type": "code",
   "execution_count": 7,
   "metadata": {},
   "outputs": [
    {
     "data": {
      "text/html": [
       "<div>\n",
       "<style scoped>\n",
       "    .dataframe tbody tr th:only-of-type {\n",
       "        vertical-align: middle;\n",
       "    }\n",
       "\n",
       "    .dataframe tbody tr th {\n",
       "        vertical-align: top;\n",
       "    }\n",
       "\n",
       "    .dataframe thead th {\n",
       "        text-align: right;\n",
       "    }\n",
       "</style>\n",
       "<table border=\"1\" class=\"dataframe\">\n",
       "  <thead>\n",
       "    <tr style=\"text-align: right;\">\n",
       "      <th></th>\n",
       "      <th>Unnamed: 0</th>\n",
       "      <th>id</th>\n",
       "      <th>tid_not_to_be_used</th>\n",
       "      <th>airline</th>\n",
       "      <th>tag</th>\n",
       "      <th>tweet</th>\n",
       "    </tr>\n",
       "  </thead>\n",
       "  <tbody>\n",
       "    <tr>\n",
       "      <th>0</th>\n",
       "      <td>1</td>\n",
       "      <td>33</td>\n",
       "      <td>506248858599710720</td>\n",
       "      <td>SouthWest</td>\n",
       "      <td>iL{o7e82\\Uob</td>\n",
       "      <td>@SouthwestAir get your damn act together. Don'...</td>\n",
       "    </tr>\n",
       "    <tr>\n",
       "      <th>1</th>\n",
       "      <td>2</td>\n",
       "      <td>58</td>\n",
       "      <td>506259476341477376</td>\n",
       "      <td>American</td>\n",
       "      <td>iL{o7e82\\Uob</td>\n",
       "      <td>@AmericanAir horrible at responding to emails....</td>\n",
       "    </tr>\n",
       "    <tr>\n",
       "      <th>2</th>\n",
       "      <td>3</td>\n",
       "      <td>135</td>\n",
       "      <td>506402253826428928</td>\n",
       "      <td>American</td>\n",
       "      <td>iL{o7e82\\Uob</td>\n",
       "      <td>@AmericanAir hey where is your crew? Flight aa...</td>\n",
       "    </tr>\n",
       "    <tr>\n",
       "      <th>3</th>\n",
       "      <td>4</td>\n",
       "      <td>159</td>\n",
       "      <td>506438943454158848</td>\n",
       "      <td>United</td>\n",
       "      <td>iL{o7e82\\Uob</td>\n",
       "      <td>Ok come on we are late let's goooo @united</td>\n",
       "    </tr>\n",
       "    <tr>\n",
       "      <th>4</th>\n",
       "      <td>5</td>\n",
       "      <td>182</td>\n",
       "      <td>506455754568904704</td>\n",
       "      <td>American</td>\n",
       "      <td>iL{o7e82\\Uob</td>\n",
       "      <td>@AmericanAir since you are now affiliated with...</td>\n",
       "    </tr>\n",
       "  </tbody>\n",
       "</table>\n",
       "</div>"
      ],
      "text/plain": [
       "   Unnamed: 0   id  tid_not_to_be_used    airline           tag  \\\n",
       "0           1   33  506248858599710720  SouthWest  iL{o7e82\\Uob   \n",
       "1           2   58  506259476341477376   American  iL{o7e82\\Uob   \n",
       "2           3  135  506402253826428928   American  iL{o7e82\\Uob   \n",
       "3           4  159  506438943454158848     United  iL{o7e82\\Uob   \n",
       "4           5  182  506455754568904704   American  iL{o7e82\\Uob   \n",
       "\n",
       "                                               tweet  \n",
       "0  @SouthwestAir get your damn act together. Don'...  \n",
       "1  @AmericanAir horrible at responding to emails....  \n",
       "2  @AmericanAir hey where is your crew? Flight aa...  \n",
       "3         Ok come on we are late let's goooo @united  \n",
       "4  @AmericanAir since you are now affiliated with...  "
      ]
     },
     "execution_count": 7,
     "metadata": {},
     "output_type": "execute_result"
    }
   ],
   "source": [
    "test_data.head()"
   ]
  },
  {
   "cell_type": "code",
   "execution_count": 8,
   "metadata": {},
   "outputs": [],
   "source": [
    "test_data = test_data[['id', 'tweet']]"
   ]
  },
  {
   "cell_type": "code",
   "execution_count": 9,
   "metadata": {},
   "outputs": [
    {
     "data": {
      "text/html": [
       "<div>\n",
       "<style scoped>\n",
       "    .dataframe tbody tr th:only-of-type {\n",
       "        vertical-align: middle;\n",
       "    }\n",
       "\n",
       "    .dataframe tbody tr th {\n",
       "        vertical-align: top;\n",
       "    }\n",
       "\n",
       "    .dataframe thead th {\n",
       "        text-align: right;\n",
       "    }\n",
       "</style>\n",
       "<table border=\"1\" class=\"dataframe\">\n",
       "  <thead>\n",
       "    <tr style=\"text-align: right;\">\n",
       "      <th></th>\n",
       "      <th>id</th>\n",
       "      <th>tweet</th>\n",
       "    </tr>\n",
       "  </thead>\n",
       "  <tbody>\n",
       "    <tr>\n",
       "      <th>0</th>\n",
       "      <td>33</td>\n",
       "      <td>@SouthwestAir get your damn act together. Don'...</td>\n",
       "    </tr>\n",
       "    <tr>\n",
       "      <th>1</th>\n",
       "      <td>58</td>\n",
       "      <td>@AmericanAir horrible at responding to emails....</td>\n",
       "    </tr>\n",
       "    <tr>\n",
       "      <th>2</th>\n",
       "      <td>135</td>\n",
       "      <td>@AmericanAir hey where is your crew? Flight aa...</td>\n",
       "    </tr>\n",
       "    <tr>\n",
       "      <th>3</th>\n",
       "      <td>159</td>\n",
       "      <td>Ok come on we are late let's goooo @united</td>\n",
       "    </tr>\n",
       "    <tr>\n",
       "      <th>4</th>\n",
       "      <td>182</td>\n",
       "      <td>@AmericanAir since you are now affiliated with...</td>\n",
       "    </tr>\n",
       "  </tbody>\n",
       "</table>\n",
       "</div>"
      ],
      "text/plain": [
       "    id                                              tweet\n",
       "0   33  @SouthwestAir get your damn act together. Don'...\n",
       "1   58  @AmericanAir horrible at responding to emails....\n",
       "2  135  @AmericanAir hey where is your crew? Flight aa...\n",
       "3  159         Ok come on we are late let's goooo @united\n",
       "4  182  @AmericanAir since you are now affiliated with..."
      ]
     },
     "execution_count": 9,
     "metadata": {},
     "output_type": "execute_result"
    }
   ],
   "source": [
    "test_data.head()"
   ]
  },
  {
   "cell_type": "code",
   "execution_count": 10,
   "metadata": {},
   "outputs": [
    {
     "data": {
      "text/plain": [
       "4555"
      ]
     },
     "execution_count": 10,
     "metadata": {},
     "output_type": "execute_result"
    }
   ],
   "source": [
    "len(test_data)"
   ]
  },
  {
   "cell_type": "markdown",
   "metadata": {},
   "source": [
    "# Baseline"
   ]
  },
  {
   "cell_type": "markdown",
   "metadata": {},
   "source": [
    "В качестве бейзлайна попробуем tf-idf + логистическую регрессию."
   ]
  },
  {
   "cell_type": "code",
   "execution_count": 16,
   "metadata": {},
   "outputs": [],
   "source": [
    "def clean(text):\n",
    "    \n",
    "    text = re.sub(r'(@.*?)[\\s]', ' ', text)\n",
    "    text = re.sub(r'&amp;', '&', text)\n",
    "    text = re.sub(r'\\s+', ' ', text).strip()\n",
    "\n",
    "    return text"
   ]
  },
  {
   "cell_type": "code",
   "execution_count": 18,
   "metadata": {},
   "outputs": [],
   "source": [
    "X = train_data.tweet.values\n",
    "y = train_data.label.values\n",
    "\n",
    "X_train, X_valid, y_train, y_valid =\\\n",
    "    train_test_split(X, y, test_size=0.1, random_state=234)"
   ]
  },
  {
   "cell_type": "code",
   "execution_count": 22,
   "metadata": {},
   "outputs": [],
   "source": [
    "X_train_preprocessed = np.array([clean(text) for text in X_train])\n",
    "X_valid_preprocessed = np.array([clean(text) for text in X_valid])"
   ]
  },
  {
   "cell_type": "code",
   "execution_count": 25,
   "metadata": {},
   "outputs": [],
   "source": [
    "tfidf = TfidfVectorizer(ngram_range=(1, 3))"
   ]
  },
  {
   "cell_type": "code",
   "execution_count": 26,
   "metadata": {},
   "outputs": [],
   "source": [
    "X_train_tfidf = tfidf.fit_transform(X_train_preprocessed)\n",
    "X_valid_tfidf = tfidf.transform(X_valid_preprocessed)"
   ]
  },
  {
   "cell_type": "code",
   "execution_count": 29,
   "metadata": {},
   "outputs": [],
   "source": [
    "def evaluate_chart(probs, y_true):\n",
    "\n",
    "    preds = probs[:, 1]\n",
    "    fpr, tpr, threshold = roc_curve(y_true, preds)\n",
    "    roc_auc = auc(fpr, tpr)\n",
    "    print('AUC: ', roc_auc)\n",
    "    y_pred = np.where(preds >= 0.5, 1, 0)\n",
    "    acc = accuracy_score(y_true, y_pred)\n",
    "    print('Accuracy: ', acc)\n",
    "\n",
    "    plt.plot(fpr, tpr, 'b')\n",
    "    plt.plot()\n",
    "    plt.ylabel('true positives ')\n",
    "    plt.xlabel('false positives ')\n",
    "    plt.show()"
   ]
  },
  {
   "cell_type": "code",
   "execution_count": 31,
   "metadata": {},
   "outputs": [],
   "source": [
    "nb_model = LogisticRegression(random_state=234, max_iter=1000)\n",
    "nb_model.fit(X_train_tfidf, y_train)\n",
    "probs = nb_model.predict_proba(X_valid_tfidf)"
   ]
  },
  {
   "cell_type": "code",
   "execution_count": 32,
   "metadata": {
    "scrolled": true
   },
   "outputs": [
    {
     "name": "stdout",
     "output_type": "stream",
     "text": [
      "AUC:  0.8197748917748918\n",
      "Accuracy:  0.7529411764705882\n"
     ]
    },
    {
     "data": {
      "image/png": "[encoded data removed]",
      "text/plain": [
       "<Figure size 432x288 with 1 Axes>"
      ]
     },
     "metadata": {
      "needs_background": "light"
     },
     "output_type": "display_data"
    }
   ],
   "source": [
    "evaluate_chart(probs, y_valid)"
   ]
  },
  {
   "cell_type": "markdown",
   "metadata": {},
   "source": [
    "# BERT"
   ]
  },
  {
   "cell_type": "code",
   "execution_count": 33,
   "metadata": {},
   "outputs": [],
   "source": [
    "tokenizer = BertTokenizer.from_pretrained('bert-base-uncased', do_lower_case=True)"
   ]
  },
  {
   "cell_type": "code",
   "execution_count": 34,
   "metadata": {},
   "outputs": [],
   "source": [
    "def prepare_for_bert(data):\n",
    "\n",
    "    input_ids = list()\n",
    "    attention_masks = list()\n",
    "\n",
    "    for s in data:\n",
    "\n",
    "        encoded = tokenizer.encode_plus(text=clean(s),\n",
    "                                        add_special_tokens=True,        \n",
    "                                        max_length=max_len, \n",
    "                                        pad_to_max_length=True, \n",
    "                                        return_attention_mask=True \n",
    "                                        )\n",
    "        \n",
    "        input_ids.append(encoded.get('input_ids'))\n",
    "        attention_masks.append(encoded.get('attention_mask'))\n",
    "\n",
    "    input_ids = torch.tensor(input_ids)\n",
    "    attention_masks = torch.tensor(attention_masks)\n",
    "\n",
    "    return input_ids, attention_masks"
   ]
  },
  {
   "cell_type": "code",
   "execution_count": 35,
   "metadata": {},
   "outputs": [],
   "source": [
    "all_data = np.concatenate([train_data.tweet.values, test_data.tweet.values])"
   ]
  },
  {
   "cell_type": "code",
   "execution_count": 36,
   "metadata": {},
   "outputs": [
    {
     "name": "stdout",
     "output_type": "stream",
     "text": [
      "68\n"
     ]
    }
   ],
   "source": [
    "data_encoded = [tokenizer.encode(s, add_special_tokens=True) for s in all_data]\n",
    "max_len = max([len(s) for s in data_encoded])\n",
    "print(max_len)"
   ]
  },
  {
   "cell_type": "code",
   "execution_count": 37,
   "metadata": {},
   "outputs": [],
   "source": [
    "max_len = 64\n",
    "batch_size = 32"
   ]
  },
  {
   "cell_type": "code",
   "execution_count": 38,
   "metadata": {
    "scrolled": true
   },
   "outputs": [
    {
     "name": "stderr",
     "output_type": "stream",
     "text": [
      "Truncation was not explicitly activated but `max_length` is provided a specific value, please use `truncation=True` to explicitly truncate examples to max length. Defaulting to 'longest_first' truncation strategy. If you encode pairs of sequences (GLUE-style) with the tokenizer you can select this strategy more precisely by providing a specific strategy to `truncation`.\n",
      "/usr/local/lib/python3.6/dist-packages/transformers/tokenization_utils_base.py:2179: FutureWarning: The `pad_to_max_length` argument is deprecated and will be removed in a future version, use `padding=True` or `padding='longest'` to pad to the longest sequence in the batch, or use `padding='max_length'` to pad to a max length. In this case, you can give a specific length with `max_length` (e.g. `max_length=45`) or leave max_length to None to pad to the maximal input size of the model (e.g. 512 for Bert).\n",
      "  FutureWarning,\n"
     ]
    }
   ],
   "source": [
    "train_inputs, train_masks = prepare_for_bert(X_train)\n",
    "valid_inputs, valid_masks = prepare_for_bert(X_valid)"
   ]
  },
  {
   "cell_type": "code",
   "execution_count": 39,
   "metadata": {},
   "outputs": [],
   "source": [
    "train_labels = torch.tensor(y_train)\n",
    "valid_labels = torch.tensor(y_valid)"
   ]
  },
  {
   "cell_type": "code",
   "execution_count": 40,
   "metadata": {},
   "outputs": [],
   "source": [
    "train = TensorDataset(train_inputs, train_masks, train_labels)\n",
    "train_sampler = RandomSampler(train)\n",
    "train_dataloader = DataLoader(train, sampler=train_sampler, batch_size=batch_size)\n",
    "\n",
    "valid = TensorDataset(valid_inputs, valid_masks, valid_labels)\n",
    "valid_sampler = SequentialSampler(valid)\n",
    "valid_dataloader = DataLoader(valid, sampler=valid_sampler, batch_size=batch_size)"
   ]
  },
  {
   "cell_type": "code",
   "execution_count": 41,
   "metadata": {},
   "outputs": [],
   "source": [
    "class BertClassifier(torch.nn.Module):\n",
    "\n",
    "    def __init__(self, freeze_bert=False):\n",
    "\n",
    "        super(BertClassifier, self).__init__()\n",
    "\n",
    "        self.bert = BertModel.from_pretrained('bert-base-uncased')\n",
    "\n",
    "        self.classifier = torch.nn.Sequential(torch.nn.Linear(768, 50),\n",
    "                                                torch.nn.ReLU(),\n",
    "                                                torch.nn.Linear(50, 2)\n",
    "                                                )\n",
    "\n",
    "        if freeze_bert:\n",
    "            \n",
    "            for param in self.bert.parameters():\n",
    "                \n",
    "                param.requires_grad = False\n",
    "        \n",
    "    def forward(self, input_ids, attention_mask):\n",
    "        \n",
    "        outputs = self.bert(input_ids=input_ids,\n",
    "                            attention_mask=attention_mask\n",
    "                           )\n",
    "        \n",
    "        last_hs = outputs[0][:, 0, :]\n",
    "        res = self.classifier(last_hs)\n",
    "\n",
    "        return res"
   ]
  },
  {
   "cell_type": "code",
   "execution_count": 42,
   "metadata": {},
   "outputs": [],
   "source": [
    "def lang_model(n_epochs=2):\n",
    "\n",
    "    bert_classifier = BertClassifier(freeze_bert=False)\n",
    "    bert_classifier.to(device)\n",
    "    optimizer = AdamW(bert_classifier.parameters(),\n",
    "                      lr=5e-5,  \n",
    "                      eps=1e-8  \n",
    "                      )\n",
    "\n",
    "    total_steps = len(train_dataloader)*n_epochs\n",
    "    scheduler = get_linear_schedule_with_warmup(optimizer, num_warmup_steps=0, num_training_steps=total_steps)\n",
    "    \n",
    "    return bert_classifier, optimizer, scheduler"
   ]
  },
  {
   "cell_type": "code",
   "execution_count": 43,
   "metadata": {},
   "outputs": [],
   "source": [
    "loss_cel = torch.nn.CrossEntropyLoss()"
   ]
  },
  {
   "cell_type": "code",
   "execution_count": 44,
   "metadata": {},
   "outputs": [],
   "source": [
    "def train_model(model, train_dataloader, val_dataloader=None, n_epochs=2, evaluation=False):\n",
    "\n",
    "    for epoch in range(n_epochs):\n",
    "\n",
    "        print('Epoch: ', epoch)\n",
    "\n",
    "        total_loss = 0\n",
    "        batch_loss = 0 \n",
    "        batch_counts = 0\n",
    "\n",
    "        model.train()\n",
    "\n",
    "        for i, batch in enumerate(train_dataloader):\n",
    "            \n",
    "            batch_counts +=1\n",
    "            input_ids, mask, labels = tuple(t.to(device) for t in batch)\n",
    "            model.zero_grad()\n",
    "            logits = model(input_ids, mask)\n",
    "            loss = loss_cel(logits, labels)\n",
    "            batch_loss += loss.item()\n",
    "            total_loss += loss.item()\n",
    "            loss.backward()\n",
    "            torch.nn.utils.clip_grad_norm_(model.parameters(), 1.0)\n",
    "            optimizer.step()\n",
    "            scheduler.step()\n",
    "\n",
    "        loss_avg = total_loss / len(train_dataloader)\n",
    "\n",
    "        print('Loss: ', loss_avg)\n",
    "        \n",
    "        if evaluation == True:\n",
    "\n",
    "            valid_loss, valid_accuracy = evaluate(model, valid_dataloader)\n",
    "            print('Evaluation')\n",
    "            print('valid_loss: ', valid_loss)\n",
    "    \n",
    "    print(\"Training complete!\")"
   ]
  },
  {
   "cell_type": "code",
   "execution_count": 45,
   "metadata": {},
   "outputs": [],
   "source": [
    "def evaluate(model, valid_dataloader):\n",
    "\n",
    "    model.eval()\n",
    "    valid_loss = list()\n",
    "    valid_acc = list()\n",
    "    \n",
    "    for i in valid_dataloader:\n",
    "        \n",
    "        input_ids, mask, labels = tuple(t.to(device) for t in i)\n",
    "\n",
    "        with torch.no_grad():\n",
    "            \n",
    "            logits = model(input_ids, mask)\n",
    "\n",
    "        loss = loss_cel(logits, labels)\n",
    "        valid_loss.append(loss.item())\n",
    "        preds = torch.argmax(logits, dim=1).flatten()\n",
    "        acc = (preds == labels).cpu().numpy().mean()*100\n",
    "        valid_acc.append(acc)\n",
    "\n",
    "    valid_loss = np.mean(valid_loss)\n",
    "    valid_accuracy = np.mean(valid_acc)\n",
    "\n",
    "    return valid_loss, valid_acc"
   ]
  },
  {
   "cell_type": "code",
   "execution_count": 46,
   "metadata": {},
   "outputs": [
    {
     "name": "stdout",
     "output_type": "stream",
     "text": [
      "Epoch:  0\n",
      "Loss:  0.5425929799675941\n",
      "Evaluation\n",
      "valid_loss:  0.4561811008236625\n",
      "Epoch:  1\n",
      "Loss:  0.30389362045874196\n",
      "Evaluation\n",
      "valid_loss:  0.4575255540284244\n",
      "Epoch:  2\n",
      "Loss:  0.13721687434008345\n",
      "Evaluation\n",
      "valid_loss:  0.5970899218862707\n",
      "Epoch:  3\n",
      "Loss:  0.07663019511771078\n",
      "Evaluation\n",
      "valid_loss:  0.8320040757005865\n",
      "Epoch:  4\n",
      "Loss:  0.039442358756787144\n",
      "Evaluation\n",
      "valid_loss:  1.1285038915547458\n",
      "Epoch:  5\n",
      "Loss:  0.017609882019314682\n",
      "Evaluation\n",
      "valid_loss:  1.1372669501738115\n",
      "Epoch:  6\n",
      "Loss:  0.007967537039803574\n",
      "Evaluation\n",
      "valid_loss:  1.0703445049849423\n",
      "Epoch:  7\n",
      "Loss:  0.004641239739915666\n",
      "Evaluation\n",
      "valid_loss:  1.1517843360250646\n",
      "Epoch:  8\n",
      "Loss:  0.005498054769608037\n",
      "Evaluation\n",
      "valid_loss:  1.1090383367104963\n",
      "Epoch:  9\n",
      "Loss:  0.002252053226281229\n",
      "Evaluation\n",
      "valid_loss:  1.1405891532247716\n",
      "Training complete!\n"
     ]
    }
   ],
   "source": [
    "random.seed(234)\n",
    "np.random.seed(234)\n",
    "torch.manual_seed(234)\n",
    "torch.cuda.manual_seed_all(234)\n",
    "\n",
    "bert_classifier, optimizer, scheduler = lang_model(n_epochs=10)\n",
    "train_model(bert_classifier, train_dataloader, valid_dataloader, n_epochs=10, evaluation=True)"
   ]
  },
  {
   "cell_type": "code",
   "execution_count": 47,
   "metadata": {},
   "outputs": [],
   "source": [
    "def prediction(model, test_dataloader):\n",
    "\n",
    "    model.eval()\n",
    "    logits = list()\n",
    "\n",
    "    for batch in test_dataloader:\n",
    "        \n",
    "        input_ids, mask = tuple(t.to(device) for t in batch)[:2]\n",
    "\n",
    "        with torch.no_grad():\n",
    "            logs = model(input_ids, mask)\n",
    "            \n",
    "        logits.append(logs)\n",
    "    \n",
    "    logits = torch.cat(logits, dim=0)\n",
    "    probs = torch.nn.functional.softmax(logits, dim=1).cpu().numpy()\n",
    "\n",
    "    return probs"
   ]
  },
  {
   "cell_type": "code",
   "execution_count": 48,
   "metadata": {},
   "outputs": [
    {
     "name": "stdout",
     "output_type": "stream",
     "text": [
      "AUC:  0.8783203463203464\n",
      "Accuracy:  0.7970588235294118\n"
     ]
    },
    {
     "data": {
      "image/png": "[encoded data removed]",
      "text/plain": [
       "<Figure size 432x288 with 1 Axes>"
      ]
     },
     "metadata": {
      "needs_background": "light"
     },
     "output_type": "display_data"
    }
   ],
   "source": [
    "probs = prediction(bert_classifier, valid_dataloader)\n",
    "\n",
    "evaluate_chart(probs, y_valid)"
   ]
  },
  {
   "cell_type": "code",
   "execution_count": 49,
   "metadata": {},
   "outputs": [],
   "source": [
    "full_train = torch.utils.data.ConcatDataset([train, valid])\n",
    "full_train_sampler = RandomSampler(full_train)\n",
    "full_train_dataloader = DataLoader(full_train, sampler=full_train_sampler, batch_size=32)"
   ]
  },
  {
   "cell_type": "code",
   "execution_count": 50,
   "metadata": {},
   "outputs": [
    {
     "name": "stdout",
     "output_type": "stream",
     "text": [
      "Epoch:  0\n",
      "Loss:  0.5430919764754928\n",
      "Epoch:  1\n",
      "Loss:  0.29742680190601084\n",
      "Epoch:  2\n",
      "Loss:  0.16739220758813006\n",
      "Epoch:  3\n",
      "Loss:  0.09816992349887842\n",
      "Epoch:  4\n",
      "Loss:  0.058301511847318334\n",
      "Epoch:  5\n",
      "Loss:  0.04117813908329634\n",
      "Epoch:  6\n",
      "Loss:  0.021417608323602753\n",
      "Epoch:  7\n",
      "Loss:  0.013281274036391177\n",
      "Epoch:  8\n",
      "Loss:  0.011258918097869398\n",
      "Epoch:  9\n",
      "Loss:  0.008665517481722843\n",
      "Training complete!\n"
     ]
    }
   ],
   "source": [
    "bert_classifier, optimizer, scheduler = lang_model(n_epochs=10)\n",
    "train_model(bert_classifier, full_train_dataloader, n_epochs=10)"
   ]
  },
  {
   "cell_type": "code",
   "execution_count": 51,
   "metadata": {},
   "outputs": [
    {
     "name": "stderr",
     "output_type": "stream",
     "text": [
      "/usr/local/lib/python3.6/dist-packages/transformers/tokenization_utils_base.py:2179: FutureWarning: The `pad_to_max_length` argument is deprecated and will be removed in a future version, use `padding=True` or `padding='longest'` to pad to the longest sequence in the batch, or use `padding='max_length'` to pad to a max length. In this case, you can give a specific length with `max_length` (e.g. `max_length=45`) or leave max_length to None to pad to the maximal input size of the model (e.g. 512 for Bert).\n",
      "  FutureWarning,\n"
     ]
    }
   ],
   "source": [
    "test_inputs, test_masks = prepare_for_bert(test_data.tweet)\n",
    "test_dataset = TensorDataset(test_inputs, test_masks)\n",
    "test_sampler = SequentialSampler(test_dataset)\n",
    "test_dataloader = DataLoader(test_dataset, sampler=test_sampler, batch_size=32)"
   ]
  },
  {
   "cell_type": "code",
   "execution_count": 52,
   "metadata": {},
   "outputs": [],
   "source": [
    "probs = prediction(bert_classifier, test_dataloader)\n",
    "threshold = 0.9\n",
    "preds = np.where(probs[:, 1] > threshold, 1, 0)"
   ]
  },
  {
   "cell_type": "code",
   "execution_count": 56,
   "metadata": {},
   "outputs": [
    {
     "data": {
      "text/plain": [
       "['@DeltaAssist can no longer login using email address, looking for assistance please',\n",
       " 'We had the most amazing customer service from @LANAirlinesUSA when we flew to Peru. Today I had to talk to @JetBlue and ugh, back to reality',\n",
       " '@DeltaAssist can I switch to an earlier flight tomorrow at no cost?',\n",
       " \"@gegrove @VirginAmerica Never flown them, but it's why I fly Jet Blue almost exclusively. Best customer service period.\",\n",
       " 'Back in #Chicago! Oh, how I have missed you... @ChooseChicago @enjoyillinois @AmericanAir #ttot #travel http://t.co/c1SYW42QfB',\n",
       " '_ @VirginAmerica _ Do you look better on the red carpet or the mechanical bull? Vote for your party...: Do you... http://t.co/5LTIu68ZZi',\n",
       " '@TommyFlanagan @AmericanAir hot all day long sweetheart! Tommy you stole my heart at Cape Fear Harley Davidson!',\n",
       " 'After this weekend, @United Airlines could become the official carrier of @KJMacDonald in 2015. I already miss sleeping in first class. :-)',\n",
       " '@AmericanAir are all flights to Ord from den still on schedule for tomorrow I.e not cancelled ?',\n",
       " \"@AmericanAir doesn't have staff that recognize how to prioritize passengers with immediate issues and baggage issues!\"]"
      ]
     },
     "execution_count": 56,
     "metadata": {},
     "output_type": "execute_result"
    }
   ],
   "source": [
    "output = test_data[preds==1]\n",
    "list(output.sample(10).tweet)"
   ]
  },
  {
   "cell_type": "markdown",
   "metadata": {},
   "source": [
    "Видно, что наша модель справляется примерно на 7 процентов лучше бейзлайна. Судя по туториалам, которые находила в процессе подготовки, это далеко не предел возможностей, и более тщательным файнтюнингом можно добиться большего.\n",
    "Из примеров твитов, характеризованных как положительные, видно, что некоторые твиты сложно однозначно характеризовать как позитивные или негативные, однако большинство из них все равно предсказаны верно.\n",
    "\n",
    "Среди сложностей, с которыми столкнулась во время работы, хочется отметить проблему с данными, о которой писала ранее — ошибка RuntimeError: CUDA error: device-side assert triggered появлялась, когда лейблов было более чем два, а также не очень большое количество примеров использования transfer learning именно в отношении текстов, а не изображений. Зато в начале работы попробовала применить один из предложенных в таком туториале метод transfer learning для дообучения модели, тренированной на ImageNet, на датасетах с собаками и кошками и осами и пчелами. "
   ]
  }
 ],
 "metadata": {
  "kernelspec": {
   "display_name": "Python 3",
   "language": "python",
   "name": "python3"
  },
  "language_info": {
   "codemirror_mode": {
    "name": "ipython",
    "version": 3
   },
   "file_extension": ".py",
   "mimetype": "text/x-python",
   "name": "python",
   "nbconvert_exporter": "python",
   "pygments_lexer": "ipython3",
   "version": "3.6.9"
  }
 },
 "nbformat": 4,
 "nbformat_minor": 4
}
